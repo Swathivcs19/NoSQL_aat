{
 "cells": [
  {
   "cell_type": "code",
   "execution_count": 1,
   "metadata": {},
   "outputs": [],
   "source": [
    "import pandas as pd\n",
    "import numpy as np\n",
    "from sklearn import metrics\n",
    "%matplotlib inline\n",
    "import matplotlib.pyplot as plt\n",
    "import requests\n",
    "import csv"
   ]
  },
  {
   "cell_type": "code",
   "execution_count": 2,
   "metadata": {},
   "outputs": [],
   "source": [
    "dataset = pd.read_csv('data2.csv')"
   ]
  },
  {
   "cell_type": "code",
   "execution_count": 3,
   "metadata": {},
   "outputs": [
    {
     "data": {
      "text/html": [
       "<div>\n",
       "<style scoped>\n",
       "    .dataframe tbody tr th:only-of-type {\n",
       "        vertical-align: middle;\n",
       "    }\n",
       "\n",
       "    .dataframe tbody tr th {\n",
       "        vertical-align: top;\n",
       "    }\n",
       "\n",
       "    .dataframe thead th {\n",
       "        text-align: right;\n",
       "    }\n",
       "</style>\n",
       "<table border=\"1\" class=\"dataframe\">\n",
       "  <thead>\n",
       "    <tr style=\"text-align: right;\">\n",
       "      <th></th>\n",
       "      <th>Id</th>\n",
       "      <th>Name</th>\n",
       "      <th>Address</th>\n",
       "      <th>Email</th>\n",
       "      <th>Designation</th>\n",
       "    </tr>\n",
       "  </thead>\n",
       "  <tbody>\n",
       "    <tr>\n",
       "      <th>0</th>\n",
       "      <td>0</td>\n",
       "      <td>Sowmya</td>\n",
       "      <td>776 B Block Mahalakshmi Layout</td>\n",
       "      <td>Sowmya@gmail.com</td>\n",
       "      <td>FinancialOfficer</td>\n",
       "    </tr>\n",
       "    <tr>\n",
       "      <th>1</th>\n",
       "      <td>1</td>\n",
       "      <td>Swathi</td>\n",
       "      <td>87 A Block Navrang</td>\n",
       "      <td>swathi@gmail.com</td>\n",
       "      <td>LegalOfficer</td>\n",
       "    </tr>\n",
       "    <tr>\n",
       "      <th>2</th>\n",
       "      <td>2</td>\n",
       "      <td>Triveni</td>\n",
       "      <td>77 4th cross Basavangudi</td>\n",
       "      <td>triveni@gmail.com</td>\n",
       "      <td>MarketingOfficer</td>\n",
       "    </tr>\n",
       "    <tr>\n",
       "      <th>3</th>\n",
       "      <td>3</td>\n",
       "      <td>Shalini</td>\n",
       "      <td>45 3rd cross Rajajinagar</td>\n",
       "      <td>shalini@gmail.com</td>\n",
       "      <td>TechnologyOfficer</td>\n",
       "    </tr>\n",
       "    <tr>\n",
       "      <th>4</th>\n",
       "      <td>4</td>\n",
       "      <td>Aishwarya</td>\n",
       "      <td>66 B Block Nandhini Layout</td>\n",
       "      <td>aish@gmail.com</td>\n",
       "      <td>FinancialOfficer</td>\n",
       "    </tr>\n",
       "    <tr>\n",
       "      <th>5</th>\n",
       "      <td>5</td>\n",
       "      <td>Meena</td>\n",
       "      <td>97 A Block RLayout</td>\n",
       "      <td>meena@gmail.com</td>\n",
       "      <td>LegalOfficer</td>\n",
       "    </tr>\n",
       "    <tr>\n",
       "      <th>6</th>\n",
       "      <td>6</td>\n",
       "      <td>Radha</td>\n",
       "      <td>76 6th cross Mahalakshmi Layout</td>\n",
       "      <td>radha@gmail.com</td>\n",
       "      <td>MarketingOfficer</td>\n",
       "    </tr>\n",
       "    <tr>\n",
       "      <th>7</th>\n",
       "      <td>7</td>\n",
       "      <td>Lakshmi</td>\n",
       "      <td>34 B Block JPSLayout</td>\n",
       "      <td>laks@gmail.com</td>\n",
       "      <td>TechnologyOfficer</td>\n",
       "    </tr>\n",
       "    <tr>\n",
       "      <th>8</th>\n",
       "      <td>8</td>\n",
       "      <td>Roopa</td>\n",
       "      <td>23 A Block ESI</td>\n",
       "      <td>roopa@gmail.com</td>\n",
       "      <td>FinancialOfficer</td>\n",
       "    </tr>\n",
       "    <tr>\n",
       "      <th>9</th>\n",
       "      <td>9</td>\n",
       "      <td>Divya</td>\n",
       "      <td>37 5th cross Jayanagar</td>\n",
       "      <td>divya@gmail.com</td>\n",
       "      <td>LegalOfficer</td>\n",
       "    </tr>\n",
       "  </tbody>\n",
       "</table>\n",
       "</div>"
      ],
      "text/plain": [
       "   Id       Name                          Address              Email  \\\n",
       "0   0     Sowmya   776 B Block Mahalakshmi Layout   Sowmya@gmail.com   \n",
       "1   1     Swathi               87 A Block Navrang   swathi@gmail.com   \n",
       "2   2    Triveni         77 4th cross Basavangudi  triveni@gmail.com   \n",
       "3   3    Shalini         45 3rd cross Rajajinagar  shalini@gmail.com   \n",
       "4   4  Aishwarya       66 B Block Nandhini Layout     aish@gmail.com   \n",
       "5   5      Meena               97 A Block RLayout    meena@gmail.com   \n",
       "6   6      Radha  76 6th cross Mahalakshmi Layout    radha@gmail.com   \n",
       "7   7    Lakshmi             34 B Block JPSLayout     laks@gmail.com   \n",
       "8   8      Roopa                   23 A Block ESI    roopa@gmail.com   \n",
       "9   9      Divya           37 5th cross Jayanagar    divya@gmail.com   \n",
       "\n",
       "         Designation  \n",
       "0   FinancialOfficer  \n",
       "1       LegalOfficer  \n",
       "2   MarketingOfficer  \n",
       "3  TechnologyOfficer  \n",
       "4   FinancialOfficer  \n",
       "5       LegalOfficer  \n",
       "6   MarketingOfficer  \n",
       "7  TechnologyOfficer  \n",
       "8   FinancialOfficer  \n",
       "9       LegalOfficer  "
      ]
     },
     "execution_count": 3,
     "metadata": {},
     "output_type": "execute_result"
    }
   ],
   "source": [
    "dataset.head(10)\n"
   ]
  },
  {
   "cell_type": "code",
   "execution_count": 6,
   "metadata": {},
   "outputs": [
    {
     "name": "stdout",
     "output_type": "stream",
     "text": [
      "Enter the number of people: 10\n"
     ]
    },
    {
     "name": "stderr",
     "output_type": "stream",
     "text": [
      "No handles with labels found to put in legend.\n"
     ]
    },
    {
     "data": {
      "image/png": "[encoded data removed]",
      "text/plain": [
       "<Figure size 432x288 with 1 Axes>"
      ]
     },
     "metadata": {
      "needs_background": "light"
     },
     "output_type": "display_data"
    }
   ],
   "source": [
    "x = []\n",
    "y = []\n",
    "temp=int(input(\"Enter the number of people: \"))  \n",
    "with open('data2.csv','r')as csvfile:\n",
    "    plots = csv.reader(csvfile,  delimiter = ',')\n",
    "\n",
    "    for row in plots:\n",
    "      if temp>=0:\n",
    "        x.append(row[0])\n",
    "        y.append(row[4])\n",
    "        temp-=1\n",
    "  \n",
    "plt.bar(x, y, color = 'g', width = 0.72)\n",
    "plt.xticks(rotation = 90)\n",
    "plt.xlabel('Id')\n",
    "plt.ylabel('Designation')\n",
    "plt.title('Designation of different persons')\n",
    "plt.legend()\n",
    "plt.show()\n"
   ]
  },
  {
   "cell_type": "code",
   "execution_count": null,
   "metadata": {},
   "outputs": [],
   "source": []
  }
 ],
 "metadata": {
  "kernelspec": {
   "display_name": "Python 3",
   "language": "python",
   "name": "python3"
  },
  "language_info": {
   "codemirror_mode": {
    "name": "ipython",
    "version": 3
   },
   "file_extension": ".py",
   "mimetype": "text/x-python",
   "name": "python",
   "nbconvert_exporter": "python",
   "pygments_lexer": "ipython3",
   "version": "3.8.3"
  }
 },
 "nbformat": 4,
 "nbformat_minor": 4
}
